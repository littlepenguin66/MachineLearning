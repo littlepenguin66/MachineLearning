{
 "cells": [
  {
   "cell_type": "code",
   "id": "initial_id",
   "metadata": {
    "collapsed": true,
    "ExecuteTime": {
     "end_time": "2024-04-14T08:15:44.279786Z",
     "start_time": "2024-04-14T08:15:43.918817Z"
    }
   },
   "source": [
    "import torch\n",
    "import matplotlib.pyplot as plt"
   ],
   "outputs": [],
   "execution_count": 9
  },
  {
   "metadata": {
    "ExecuteTime": {
     "end_time": "2024-04-14T08:20:48.059983Z",
     "start_time": "2024-04-14T08:20:48.057502Z"
    }
   },
   "cell_type": "code",
   "source": [
    "# prepare dataset\n",
    "# x,y是矩阵，3行1列 也就是说总共有3个数据，每个数据只有1个特征\n",
    "x_data = torch.tensor([[1.0], [2.0], [3.0]])\n",
    "y_data = torch.tensor([[2.0], [4.0], [6.0]])"
   ],
   "id": "82fb77cb55628027",
   "outputs": [],
   "execution_count": 36
  },
  {
   "metadata": {
    "ExecuteTime": {
     "end_time": "2024-04-14T08:20:48.245962Z",
     "start_time": "2024-04-14T08:20:48.242167Z"
    }
   },
   "cell_type": "code",
   "source": [
    "class LinearModel(torch.nn.Module):\n",
    "    def __init__(self):\n",
    "        super(LinearModel, self).__init__()\n",
    "        # (1,1)是指输入x和输出y的特征维度，这里数据集中的x和y的特征都是1维的\n",
    "        # 该线性层需要学习的参数是w和b  获取w/b的方式分别是~linear.weight/linear.bias\n",
    "        self.linear = torch.nn.Linear(1, 1)\n",
    " \n",
    "    def forward(self, x):\n",
    "        y_pred = self.linear(x)\n",
    "        return y_pred"
   ],
   "id": "8ac632d29d89c8d4",
   "outputs": [],
   "execution_count": 37
  },
  {
   "metadata": {
    "ExecuteTime": {
     "end_time": "2024-04-14T08:20:48.402424Z",
     "start_time": "2024-04-14T08:20:48.397330Z"
    }
   },
   "cell_type": "code",
   "source": [
    "model = LinearModel()\n",
    " \n",
    "# construct loss and optimizer\n",
    "# criterion = torch.nn.MSELoss(size_average = False)\n",
    "criterion = torch.nn.MSELoss(reduction = 'sum')\n",
    "optimizer = torch.optim.SGD(model.parameters(), lr = 0.01) # model.parameters()自动完成参数的初始化操作，这个地方我可能理解错了\n",
    "loss_list = []"
   ],
   "id": "6661c6d1b7c34c86",
   "outputs": [],
   "execution_count": 38
  },
  {
   "metadata": {
    "ExecuteTime": {
     "end_time": "2024-04-14T08:20:48.615703Z",
     "start_time": "2024-04-14T08:20:48.570655Z"
    }
   },
   "cell_type": "code",
   "source": [
    "# training cycle forward, backward, update\n",
    "for epoch in range(150):\n",
    "    y_pred = model(x_data) # forward:predict\n",
    "    loss = criterion(y_pred, y_data) # forward: loss\n",
    "    print(epoch, loss.item())\n",
    "    loss_list.append(loss.item())\n",
    "    optimizer.zero_grad() # the grad computer by .backward() will be accumulated. so before backward, remember set the grad to zero\n",
    "    loss.backward() # backward: autograd，自动计算梯度\n",
    "    optimizer.step() # update 参数，即更新w和b的值"
   ],
   "id": "a650b1786ad7e18e",
   "outputs": [
    {
     "name": "stdout",
     "output_type": "stream",
     "text": [
      "0 140.0226593017578\n",
      "1 62.44056701660156\n",
      "2 27.901697158813477\n",
      "3 12.524466514587402\n",
      "4 5.677474021911621\n",
      "5 2.6279196739196777\n",
      "6 1.2689014673233032\n",
      "7 0.662483274936676\n",
      "8 0.3911195397377014\n",
      "9 0.2689336836338043\n",
      "10 0.2131776213645935\n",
      "11 0.18701349198818207\n",
      "12 0.17404179275035858\n",
      "13 0.1669628918170929\n",
      "14 0.16252532601356506\n",
      "15 0.1592821627855301\n",
      "16 0.15658898651599884\n",
      "17 0.1541588008403778\n",
      "18 0.1518632471561432\n",
      "19 0.14964506030082703\n",
      "20 0.14747844636440277\n",
      "21 0.14535200595855713\n",
      "22 0.14326000213623047\n",
      "23 0.14119969308376312\n",
      "24 0.13916964828968048\n",
      "25 0.1371695101261139\n",
      "26 0.13519799709320068\n",
      "27 0.13325491547584534\n",
      "28 0.13133975863456726\n",
      "29 0.12945228815078735\n",
      "30 0.12759190797805786\n",
      "31 0.12575803697109222\n",
      "32 0.12395064532756805\n",
      "33 0.12216922640800476\n",
      "34 0.12041357159614563\n",
      "35 0.11868292093276978\n",
      "36 0.11697755753993988\n",
      "37 0.11529617011547089\n",
      "38 0.11363916844129562\n",
      "39 0.11200593411922455\n",
      "40 0.11039640754461288\n",
      "41 0.10880981385707855\n",
      "42 0.10724605619907379\n",
      "43 0.10570462048053741\n",
      "44 0.10418558120727539\n",
      "45 0.10268828272819519\n",
      "46 0.10121244937181473\n",
      "47 0.09975787252187729\n",
      "48 0.09832432866096497\n",
      "49 0.09691125899553299\n",
      "50 0.09551835060119629\n",
      "51 0.09414569288492203\n",
      "52 0.09279263019561768\n",
      "53 0.09145902842283249\n",
      "54 0.09014478325843811\n",
      "55 0.08884909749031067\n",
      "56 0.08757217973470688\n",
      "57 0.08631375432014465\n",
      "58 0.0850730836391449\n",
      "59 0.08385050296783447\n",
      "60 0.08264552801847458\n",
      "61 0.08145767450332642\n",
      "62 0.08028704673051834\n",
      "63 0.07913320511579514\n",
      "64 0.07799607515335083\n",
      "65 0.07687492668628693\n",
      "66 0.07577020674943924\n",
      "67 0.07468126714229584\n",
      "68 0.07360803335905075\n",
      "69 0.07255013287067413\n",
      "70 0.07150748372077942\n",
      "71 0.07047980278730392\n",
      "72 0.06946686655282974\n",
      "73 0.06846857815980911\n",
      "74 0.06748459488153458\n",
      "75 0.06651470065116882\n",
      "76 0.06555868685245514\n",
      "77 0.06461659073829651\n",
      "78 0.06368796527385712\n",
      "79 0.062772735953331\n",
      "80 0.06187039613723755\n",
      "81 0.06098124757409096\n",
      "82 0.06010487303137779\n",
      "83 0.05924126133322716\n",
      "84 0.058389708399772644\n",
      "85 0.05755063146352768\n",
      "86 0.05672347918152809\n",
      "87 0.05590818077325821\n",
      "88 0.05510471388697624\n",
      "89 0.054312821477651596\n",
      "90 0.05353232100605965\n",
      "91 0.05276290699839592\n",
      "92 0.05200466513633728\n",
      "93 0.05125728249549866\n",
      "94 0.050520673394203186\n",
      "95 0.049794696271419525\n",
      "96 0.04907902702689171\n",
      "97 0.04837360233068466\n",
      "98 0.0476783886551857\n",
      "99 0.04699312150478363\n",
      "100 0.04631786420941353\n",
      "101 0.04565214738249779\n",
      "102 0.04499603435397148\n",
      "103 0.04434943199157715\n",
      "104 0.04371212422847748\n",
      "105 0.04308386147022247\n",
      "106 0.04246463254094124\n",
      "107 0.04185432195663452\n",
      "108 0.04125283285975456\n",
      "109 0.04066000133752823\n",
      "110 0.04007561504840851\n",
      "111 0.039499733597040176\n",
      "112 0.03893201798200607\n",
      "113 0.03837249428033829\n",
      "114 0.03782098740339279\n",
      "115 0.03727742284536362\n",
      "116 0.0367417074739933\n",
      "117 0.036213766783475876\n",
      "118 0.03569325804710388\n",
      "119 0.035180240869522095\n",
      "120 0.034674614667892456\n",
      "121 0.03417632728815079\n",
      "122 0.03368521109223366\n",
      "123 0.03320109099149704\n",
      "124 0.03272390365600586\n",
      "125 0.03225370869040489\n",
      "126 0.03179005905985832\n",
      "127 0.031333256512880325\n",
      "128 0.03088296577334404\n",
      "129 0.0304391011595726\n",
      "130 0.030001681298017502\n",
      "131 0.029570426791906357\n",
      "132 0.029145492240786552\n",
      "133 0.028726547956466675\n",
      "134 0.028313815593719482\n",
      "135 0.02790689840912819\n",
      "136 0.027505788952112198\n",
      "137 0.027110513299703598\n",
      "138 0.026720892637968063\n",
      "139 0.026336830109357834\n",
      "140 0.025958338752388954\n",
      "141 0.025585217401385307\n",
      "142 0.025217650458216667\n",
      "143 0.024855200201272964\n",
      "144 0.02449791319668293\n",
      "145 0.024145886301994324\n",
      "146 0.023798812180757523\n",
      "147 0.02345687709748745\n",
      "148 0.02311975508928299\n",
      "149 0.022787466645240784\n"
     ]
    }
   ],
   "execution_count": 39
  },
  {
   "metadata": {
    "ExecuteTime": {
     "end_time": "2024-04-14T08:20:49.136133Z",
     "start_time": "2024-04-14T08:20:49.131584Z"
    }
   },
   "cell_type": "code",
   "source": [
    "print('w = ', model.linear.weight.item())\n",
    "print('b = ', model.linear.bias.item())\n",
    " \n",
    "x_test = torch.tensor([[4.0]])\n",
    "y_test = model(x_test)\n",
    "print('y_pred = ', y_test.data)"
   ],
   "id": "4bd30ce2eeb038a1",
   "outputs": [
    {
     "name": "stdout",
     "output_type": "stream",
     "text": [
      "w =  1.8995060920715332\n",
      "b =  0.2284463346004486\n",
      "y_pred =  tensor([[7.8265]])\n"
     ]
    }
   ],
   "execution_count": 40
  },
  {
   "metadata": {
    "ExecuteTime": {
     "end_time": "2024-04-14T08:20:52.547619Z",
     "start_time": "2024-04-14T08:20:52.468005Z"
    }
   },
   "cell_type": "code",
   "source": [
    "plt.plot(range(150), loss_list)\n",
    "plt.xlabel('epoch')\n",
    "plt.ylabel('loss')\n",
    "plt.show()"
   ],
   "id": "4881eda4ca70972f",
   "outputs": [
    {
     "data": {
      "text/plain": [
       "<Figure size 640x480 with 1 Axes>"
      ],
      "image/png": "[encoded data removed]"
     },
     "metadata": {},
     "output_type": "display_data"
    }
   ],
   "execution_count": 41
  },
  {
   "metadata": {},
   "cell_type": "code",
   "outputs": [],
   "execution_count": null,
   "source": "",
   "id": "f35bad1206880c4f"
  }
 ],
 "metadata": {
  "kernelspec": {
   "display_name": "Python 3",
   "language": "python",
   "name": "python3"
  },
  "language_info": {
   "codemirror_mode": {
    "name": "ipython",
    "version": 2
   },
   "file_extension": ".py",
   "mimetype": "text/x-python",
   "name": "python",
   "nbconvert_exporter": "python",
   "pygments_lexer": "ipython2",
   "version": "2.7.6"
  }
 },
 "nbformat": 4,
 "nbformat_minor": 5
}
